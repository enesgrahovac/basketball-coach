{
  "cells": [
    {
      "cell_type": "code",
      "execution_count": null,
      "metadata": {
        "colab": {
          "base_uri": "https://localhost:8080/"
        },
        "id": "bc40fb20",
        "outputId": "d64eca60-5c03-46e9-aada-c6716fa8ec8e"
      },
      "outputs": [],
      "source": [
        "!pip install moviepy"
      ]
    },
    {
      "cell_type": "code",
      "execution_count": null,
      "metadata": {
        "id": "B9meVGiV4vVx"
      },
      "outputs": [],
      "source": [
        "from google import genai\n",
        "from google.colab import userdata\n",
        "\n",
        "gemini_api_key = userdata.get(\"GEMINI_API_KEY\")\n",
        "client = genai.Client(api_key=gemini_api_key)"
      ]
    },
    {
      "cell_type": "code",
      "execution_count": null,
      "metadata": {
        "colab": {
          "base_uri": "https://localhost:8080/",
          "height": 90
        },
        "id": "t5cJ8qMQ4iyW",
        "outputId": "5a8bfc6d-34c5-4b7e-f3f2-657a002c31b6"
      },
      "outputs": [],
      "source": [
        "import ipywidgets as widgets\n",
        "from IPython.display import display\n",
        "from google.colab import files\n",
        "\n",
        "uploaded = files.upload()\n",
        "\n",
        "for name, data in uploaded.items():\n",
        "  video_file_name = name\n",
        "  video_bytes = data\n",
        "\n",
        "print(f\"Uploaded video: {video_file_name}\")"
      ]
    },
    {
      "cell_type": "code",
      "execution_count": null,
      "metadata": {
        "colab": {
          "base_uri": "https://localhost:8080/"
        },
        "id": "lxAQWcIK2UQy",
        "outputId": "f125b72e-8e14-4ce1-ec25-17ddee07cb41"
      },
      "outputs": [],
      "source": [
        "!pip show google-genai"
      ]
    },
    {
      "cell_type": "code",
      "execution_count": null,
      "metadata": {
        "id": "itXSnYiAAoId"
      },
      "outputs": [],
      "source": [
        "FRAMES_PER_SECOND = 8"
      ]
    },
    {
      "cell_type": "code",
      "execution_count": null,
      "metadata": {
        "colab": {
          "base_uri": "https://localhost:8080/",
          "height": 929
        },
        "id": "ecf947fe",
        "outputId": "be7302f9-2975-4101-be83-fe916bda4c6e"
      },
      "outputs": [],
      "source": [
        "from moviepy.editor import VideoFileClip, ImageSequenceClip\n",
        "import os\n",
        "from IPython.display import display, Video\n",
        "import tempfile\n",
        "from PIL import Image\n",
        "import numpy as np\n",
        "\n",
        "# Set desired resolution (e.g., (640, 480) for 640 pixels wide by 480 pixels tall), or None for original resolution\n",
        "TARGET_RESOLUTION = None # (640, 480)\n",
        "\n",
        "# Create a temporary directory to save frames\n",
        "with tempfile.TemporaryDirectory() as tmpdir:\n",
        "    # Load the video clip\n",
        "    clip = VideoFileClip(video_file_name)\n",
        "\n",
        "    # Extract frames at the specified FPS\n",
        "    frame_paths = []\n",
        "    for i, t in enumerate(range(0, int(clip.duration * FRAMES_PER_SECOND))):\n",
        "        frame_time = t / FRAMES_PER_SECOND\n",
        "        frame = clip.get_frame(frame_time)\n",
        "\n",
        "        # Resize frame if a target resolution is specified\n",
        "        if TARGET_RESOLUTION:\n",
        "            frame = Image.fromarray(frame).resize(TARGET_RESOLUTION)\n",
        "            frame = np.array(frame) # Convert back to numpy array\n",
        "\n",
        "        frame_path = os.path.join(tmpdir, f\"frame_{i:04d}.png\")\n",
        "        Image.fromarray(frame).save(frame_path)\n",
        "        frame_paths.append(frame_path)\n",
        "\n",
        "    clip.close() # Close the original clip\n",
        "\n",
        "    # Create a video clip from the extracted frames\n",
        "    output_video_path = os.path.join(tmpdir, \"output_video.mp4\")\n",
        "    video_clip = ImageSequenceClip(frame_paths, fps=FRAMES_PER_SECOND)\n",
        "    video_clip.write_videofile(output_video_path, codec='libx264')\n",
        "\n",
        "    # Display the created video\n",
        "    print(f\"Displaying video at {FRAMES_PER_SECOND} FPS:\")\n",
        "    if TARGET_RESOLUTION:\n",
        "        print(f\"Resized to {TARGET_RESOLUTION}\")\n",
        "    display(Video(output_video_path, embed=True))\n",
        "\n",
        "    video_clip.close() # Close the new clip\n",
        "\n",
        "print(\"Finished creating and displaying video.\")"
      ]
    },
    {
      "cell_type": "code",
      "execution_count": null,
      "metadata": {
        "colab": {
          "base_uri": "https://localhost:8080/",
          "height": 827
        },
        "id": "ITGb02Yi66Hx",
        "outputId": "5fba72e1-d354-4607-ffb0-b18935259b42"
      },
      "outputs": [],
      "source": [
        "from IPython.display import Video\n",
        "\n",
        "try:\n",
        "  display(Video(video_file_name, embed=True), )\n",
        "except NameError:\n",
        "  print(\"Please upload a video first in the cell above.\")"
      ]
    },
    {
      "cell_type": "code",
      "execution_count": null,
      "metadata": {
        "id": "aTL6uJjL6g2G"
      },
      "outputs": [],
      "source": [
        "PROMPT='''\n",
        "You are classifying a single basketball shot attempt from a short video clip.\n",
        "\n",
        "Return ONLY a single JSON object per the schema below—no extra text, no explanations.\n",
        "\n",
        "TASKS\n",
        "1) Decide if the shot is a MAKE or MISS.\n",
        "2) Decide the range category: LAY_UP, IN_PAINT, MID_RANGE, THREE_POINTER, or FREE_THROW.\n",
        "\n",
        "DEFINITIONS (strict)\n",
        "- MAKE: Ball passes completely through the hoop from above during the clip (counts even if there’s a visible and-1).\n",
        "- MISS: Any shot that does not go in (including blocked after release, airball, rim-out). If no clear attempt occurs, set \"make_miss\": null.\n",
        "\n",
        "Range category is based on shooter position at RELEASE and the context of the play:\n",
        "- LAY_UP: At/under the rim (layups, finger rolls, scoop shots, tip-ins, putbacks, and dunks all count as LAY_UP).\n",
        "- IN_PAINT: Non-layup two-point attempts with both feet inside the painted lane at release (floaters/runners/hooks/post moves inside paint).\n",
        "- MID_RANGE: Two-point attempts outside the paint but inside the 3-pt line (pull-ups, long twos, post fades outside paint).\n",
        "- THREE_POINTER: Both feet clearly behind the 3-pt arc at release. If any part of either foot is on the line, classify as MID_RANGE.\n",
        "- FREE_THROW: A stationary, unguarded shot taken from the free-throw line during a stoppage (typical cues: shooter at stripe, lane players lined up outside the lane, official handing ball, no defenders contesting the shot).\n",
        "\n",
        "TIE-BREAKS / EDGE CASES\n",
        "- Tip-ins/putbacks: Treat as LAY_UP.\n",
        "- Floaters/Runners: Inside paint → IN_PAINT; outside paint → MID_RANGE.\n",
        "- Bank vs swish: Ignore; use location only.\n",
        "- Corner threes: Toe on line → MID_RANGE; clearly behind → THREE_POINTER.\n",
        "- Blocked shots: If release happened → MISS with appropriate range. If blocked before release, output the first completed shot attempt in the clip.\n",
        "- Free throws: If free-throw context is clear, use FREE_THROW regardless of whether the shooter’s feet appear slightly ahead/behind the painted line due to angle. Do NOT label normal live-play mid-range shots near the stripe as FREE_THROW.\n",
        "- Poor camera/occlusion: Use best cues (paint edges, arc line, rim, lane lineup for free throws). When uncertain between two non–free-throw ranges, choose the closer-in one.\n",
        "\n",
        "CONSTRAINTS\n",
        "- Classify the first complete attempt in the clip; ignore later attempts.\n",
        "- Output must be valid JSON only. Do not include reasoning or extra fields.\n",
        "\n",
        "OUTPUT SCHEMA (use exactly these keys)\n",
        "{\n",
        "  \"make_miss\": \"MAKE | MISS | null\",\n",
        "  \"range\": \"LAY_UP | IN_PAINT | MID_RANGE | THREE_POINTER | FREE_THROW | null\",\n",
        "  \"confidence\": 0.0\n",
        "}\n",
        "'''\n"
      ]
    },
    {
      "cell_type": "code",
      "execution_count": null,
      "metadata": {
        "colab": {
          "base_uri": "https://localhost:8080/"
        },
        "id": "7-CZHDk24bZL",
        "outputId": "9d8a5ed4-2076-4753-a494-c8c80fea4090"
      },
      "outputs": [],
      "source": [
        "# Only for videos of size <20Mb\n",
        "# video_file_name = \"/path/to/your/video.mp4\" # Comment out the original file path\n",
        "# video_bytes = open(video_file_name, 'rb').read() # Comment out the original file read\n",
        "\n",
        "from google import genai\n",
        "from google.genai import types\n",
        "import time\n",
        "\n",
        "start_time = time.time()\n",
        "response = client.models.generate_content(\n",
        "    model='models/gemini-2.5-flash',\n",
        "    contents=types.Content(\n",
        "        parts=[\n",
        "            types.Part(\n",
        "                inline_data=types.Blob(data=video_bytes, mime_type='video/mp4'),\n",
        "                video_metadata=types.VideoMetadata(fps=FRAMES_PER_SECOND)\n",
        "            ),\n",
        "            types.Part(text=PROMPT)\n",
        "        ]\n",
        "    ),\n",
        "    config=types.GenerateContentConfig(\n",
        "        media_resolution=types.MediaResolution.MEDIA_RESOLUTION_MEDIUM\n",
        "    ),\n",
        ")\n",
        "end_time = time.time()\n",
        "print(f\"Time taken: {end_time - start_time} seconds\")"
      ]
    },
    {
      "cell_type": "code",
      "execution_count": null,
      "metadata": {
        "colab": {
          "base_uri": "https://localhost:8080/"
        },
        "id": "9eXG23-J5NYz",
        "outputId": "313ebb9d-bd3d-4f61-e463-463dbb2d6557"
      },
      "outputs": [],
      "source": [
        "response"
      ]
    },
    {
      "cell_type": "code",
      "execution_count": null,
      "metadata": {
        "colab": {
          "base_uri": "https://localhost:8080/",
          "height": 34
        },
        "id": "nJNj9V8J5naN",
        "outputId": "5bde735e-8a28-4b6c-b651-62c415d98ff5"
      },
      "outputs": [],
      "source": [
        "import json\n",
        "\n",
        "output_string = response.candidates[0].content.parts[0].text\n",
        "\n",
        "# Extract the JSON string from the output string\n",
        "json_string = output_string.strip().replace('```json\\n', '').replace('\\n```', '')\n",
        "\n",
        "# Parse the JSON string into a Python dictionary\n",
        "json_object = json.loads(json_string)\n",
        "\n",
        "display(json_object)"
      ]
    },
    {
      "cell_type": "code",
      "execution_count": null,
      "metadata": {
        "id": "AQKxfD5wFomt"
      },
      "outputs": [],
      "source": []
    }
  ],
  "metadata": {
    "colab": {
      "provenance": []
    },
    "kernelspec": {
      "display_name": "Python 3",
      "name": "python3"
    },
    "language_info": {
      "name": "python"
    }
  },
  "nbformat": 4,
  "nbformat_minor": 0
}
